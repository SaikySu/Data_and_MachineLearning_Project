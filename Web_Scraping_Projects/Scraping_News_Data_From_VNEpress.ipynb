{
 "cells": [
  {
   "cell_type": "code",
   "execution_count": 4,
   "metadata": {
    "id": "xYKVCqVdQidA"
   },
   "outputs": [],
   "source": [
    "# selenium import\n",
    "from selenium import webdriver\n",
    "from selenium.webdriver.chrome.service import Service\n",
    "from selenium.webdriver.common.by import By\n",
    "from selenium.common.exceptions import StaleElementReferenceException, NoSuchElementException\n",
    "\n",
    "# other imports\n",
    "import os\n",
    "import json"
   ]
  },
  {
   "cell_type": "code",
   "execution_count": 5,
   "metadata": {
    "id": "W1nuvz0CQidC"
   },
   "outputs": [],
   "source": [
    "chrome_options = webdriver.ChromeOptions()\n",
    "\n",
    "#chrome_options.add_argument('--headless') # must options for Google Colab\n",
    "chrome_options.add_argument('--no-sandbox')\n",
    "chrome_options.add_argument('--disable-dev-shm-usage')\n",
    "chrome_options.add_argument(\"--disable-extensions\")\n",
    "chrome_options.add_argument(\"--disable-gpu\")\n"
   ]
  },
  {
   "cell_type": "code",
   "execution_count": 6,
   "metadata": {
    "id": "VSSeTnvTXUvb"
   },
   "outputs": [],
   "source": [
    "MAGAZINE_NAME = \"vnexpress\"\n",
    "HOME_PAGE = \"https://vnexpress.net/\""
   ]
  },
  {
   "cell_type": "markdown",
   "metadata": {
    "id": "kx1W0AigY9po"
   },
   "source": [
    "Go to home page"
   ]
  },
  {
   "cell_type": "code",
   "execution_count": 7,
   "metadata": {
    "id": "sVO804PQQidG"
   },
   "outputs": [],
   "source": [
    "driver = webdriver.Chrome(options=chrome_options)\n",
    "driver.get(HOME_PAGE)"
   ]
  },
  {
   "cell_type": "markdown",
   "metadata": {
    "id": "twFoPf3UY_lj"
   },
   "source": [
    "SelectSelect menu buttons"
   ]
  },
  {
   "cell_type": "code",
   "execution_count": 8,
   "metadata": {
    "id": "UrQC9Fp2QidG"
   },
   "outputs": [],
   "source": [
    "## Chose element with class_name == \"all-menu\"\n",
    "all_menu = driver.find_element(by=By.CLASS_NAME, value=\"all-menu\")\n",
    "\n",
    "## Click on menu\n",
    "all_menu.click() "
   ]
  },
  {
   "cell_type": "markdown",
   "metadata": {
    "id": "K-tNzlW_ZIrY"
   },
   "source": [
    "Collect all category in Home Page"
   ]
  },
  {
   "cell_type": "code",
   "execution_count": 9,
   "metadata": {
    "id": "HvKzA3GuQidH"
   },
   "outputs": [],
   "source": [
    "cats = []\n",
    "row_menu = driver.find_element(by=By.CLASS_NAME, value=\"row-menu\")\n",
    "cat_menus = row_menu.find_elements(by=By.CLASS_NAME, value=\"cat-menu\")\n",
    "\n",
    "for cat_menu in cat_menus: # Loop through cat menus to main cat and corresponding links\n",
    "    cat = cat_menu.find_element(by=By.TAG_NAME, value=\"a\").get_attribute(\"title\").strip()\n",
    "    href = cat_menu.find_element(by=By.TAG_NAME, value=\"a\").get_attribute(\"href\").strip()\n",
    "    cats.append({\"cat_name\": cat, \"url\": href})"
   ]
  },
  {
   "cell_type": "code",
   "execution_count": 10,
   "metadata": {
    "colab": {
     "base_uri": "https://localhost:8080/"
    },
    "executionInfo": {
     "elapsed": 4,
     "status": "ok",
     "timestamp": 1722506454989,
     "user": {
      "displayName": "Duc Nguyen Quang",
      "userId": "13435852976191392349"
     },
     "user_tz": -420
    },
    "id": "bd8bhz7AQidI",
    "outputId": "01fa1917-1411-4770-928f-923d87e7580c"
   },
   "outputs": [
    {
     "data": {
      "text/plain": [
       "([{'cat_name': 'Thời sự', 'url': 'https://vnexpress.net/thoi-su'},\n",
       "  {'cat_name': 'Thế giới', 'url': 'https://vnexpress.net/the-gioi'},\n",
       "  {'cat_name': 'Kinh doanh', 'url': 'https://vnexpress.net/kinh-doanh'},\n",
       "  {'cat_name': 'Công nghệ', 'url': 'https://vnexpress.net/cong-nghe'},\n",
       "  {'cat_name': 'Khoa học', 'url': 'https://vnexpress.net/khoa-hoc'},\n",
       "  {'cat_name': 'Video', 'url': 'https://video.vnexpress.net/'},\n",
       "  {'cat_name': 'Podcasts', 'url': 'https://vnexpress.net/podcast'},\n",
       "  {'cat_name': 'Góc nhìn', 'url': 'https://vnexpress.net/goc-nhin'},\n",
       "  {'cat_name': 'Bất động sản', 'url': 'https://vnexpress.net/bat-dong-san'},\n",
       "  {'cat_name': 'Sức khỏe', 'url': 'https://vnexpress.net/suc-khoe'},\n",
       "  {'cat_name': 'Thể thao', 'url': 'https://vnexpress.net/the-thao'},\n",
       "  {'cat_name': 'Giải trí', 'url': 'https://vnexpress.net/giai-tri'},\n",
       "  {'cat_name': 'Pháp luật', 'url': 'https://vnexpress.net/phap-luat'},\n",
       "  {'cat_name': 'Giáo dục', 'url': 'https://vnexpress.net/giao-duc'},\n",
       "  {'cat_name': 'Đời sống', 'url': 'https://vnexpress.net/doi-song'},\n",
       "  {'cat_name': 'Xe', 'url': 'https://vnexpress.net/oto-xe-may'},\n",
       "  {'cat_name': 'Du lịch', 'url': 'https://vnexpress.net/du-lich'},\n",
       "  {'cat_name': 'Ý kiến', 'url': 'https://vnexpress.net/y-kien'},\n",
       "  {'cat_name': 'Tâm sự', 'url': 'https://vnexpress.net/tam-su'},\n",
       "  {'cat_name': 'Thư giãn', 'url': 'https://vnexpress.net/thu-gian'}],\n",
       " 20)"
      ]
     },
     "execution_count": 10,
     "metadata": {},
     "output_type": "execute_result"
    }
   ],
   "source": [
    "cats, len(cats)"
   ]
  },
  {
   "cell_type": "code",
   "execution_count": 11,
   "metadata": {
    "id": "8V8Nz8VaQidJ"
   },
   "outputs": [],
   "source": [
    "# Close after use\n",
    "driver.close()"
   ]
  },
  {
   "cell_type": "markdown",
   "metadata": {
    "id": "GS4KAh6LQidJ"
   },
   "source": [
    "### Collect some links based on each news category of that website: News urls"
   ]
  },
  {
   "cell_type": "markdown",
   "metadata": {
    "id": "9ZRNDXMSbgYu"
   },
   "source": [
    "\n",
    "> **How to collect**\n",
    "\n",
    "From the categories and corresponding links, we go to each category in turn and get the links of the articles in that section of that website.\n",
    "\n"
   ]
  },
  {
   "cell_type": "markdown",
   "metadata": {
    "id": "_mVELCka965p"
   },
   "source": [
    "#### Setting parameter"
   ]
  },
  {
   "cell_type": "code",
   "execution_count": 12,
   "metadata": {
    "id": "8lrCdNDFQidJ"
   },
   "outputs": [],
   "source": [
    "# Set the number of links to get in each report category\n",
    "NUM_ARTICLES_PER_CAT = 30 \n",
    "\n",
    "# Vnexpress data storage path\n",
    "DATA_URL_FILE = \"data/vnexpress_url.json\"\n",
    "\n",
    "# Some genres don't need\n",
    "EXCLUDING_CATEGORIES = [\"Video\", \"Podcasts\", \"Góc nhìn\", \"Tâm sự\", \"Thư giãn\", \"Ý kiến\"]\n",
    "\n",
    "# Additional settings chromedriver\n",
    "## We set the load stategy here as normal: https://www.selenium.dev/documentation/webdriver/drivers/options/\n",
    "chrome_options.page_load_strategy = \"normal\""
   ]
  },
  {
   "cell_type": "code",
   "execution_count": 13,
   "metadata": {
    "id": "ONEDcR18_Qfi"
   },
   "outputs": [],
   "source": [
    "driver = webdriver.Chrome(options=chrome_options)"
   ]
  },
  {
   "cell_type": "code",
   "execution_count": 14,
   "metadata": {
    "id": "ANgthbUXQidK"
   },
   "outputs": [],
   "source": [
    "# Global variables for filtering deduplicating urls\n",
    "crawled_urls = set()\n",
    "\n",
    "def crawl_each_category_url(driver, category_url):\n",
    "    \"\"\"\n",
    "    Functions cho lấy urls cho từng category sau khi thử nghiệm\n",
    "    \"\"\"\n",
    "    all_urls = set()\n",
    "    url = category_url\n",
    "\n",
    "    # Limit the number of NUM_ARTICLES_PER_CAT\n",
    "\n",
    "    while len(all_urls) < NUM_ARTICLES_PER_CAT:\n",
    "        driver.get(url)\n",
    "        title_news = driver.find_elements(by=By.CLASS_NAME, value=\"title-news\")\n",
    "        for title in title_news:\n",
    "            try:\n",
    "                url_new = title.find_element(by=By.TAG_NAME, value=\"a\").get_attribute(\"href\")\n",
    "                if url_new.startswith(HOME_PAGE) and url_new not in crawled_urls: #avoid ads, different sites news\n",
    "                    all_urls.add(url_new)\n",
    "                    crawled_urls.add(url_new) # avoid dedup url\n",
    "\n",
    "            # To see if there is bug\n",
    "            except StaleElementReferenceException:\n",
    "                continue\n",
    "            except NoSuchElementException:\n",
    "                print(f\"NoSuchElementException at {url}\")\n",
    "                continue\n",
    "\n",
    "        url = driver.find_element(by=By.CLASS_NAME, value=\"next-page\").get_attribute(\"href\")\n",
    "\n",
    "    return all_urls"
   ]
  },
  {
   "cell_type": "code",
   "execution_count": null,
   "metadata": {
    "colab": {
     "base_uri": "https://localhost:8080/"
    },
    "executionInfo": {
     "elapsed": 263982,
     "status": "ok",
     "timestamp": 1722164518929,
     "user": {
      "displayName": "Duc Nguyen Quang",
      "userId": "13435852976191392349"
     },
     "user_tz": -420
    },
    "id": "XLU-yC8iQidK",
    "outputId": "bc46cebc-f050-4a2f-e59c-c56ad01e560d"
   },
   "outputs": [],
   "source": [
    "saved_cats = {}\n",
    "\n",
    "# Collect for each category\n",
    "for cat in cats:\n",
    "    cat_name = cat[\"cat_name\"]\n",
    "    url = cat[\"url\"]\n",
    "    if cat_name not in EXCLUDING_CATEGORIES:\n",
    "        print(f\"You are at {cat}.\")\n",
    "        urls = crawl_each_category_url(driver, url)\n",
    "        saved_cats[cat_name] = list(urls)\n",
    "\n",
    "with open(DATA_URL_FILE, \"w\", encoding=\"utf-8\") as fOut:\n",
    "    json.dump(saved_cats, fOut, ensure_ascii=False, indent=4)\n",
    "\n",
    "driver.close()"
   ]
  },
  {
   "cell_type": "code",
   "execution_count": null,
   "metadata": {
    "colab": {
     "base_uri": "https://localhost:8080/"
    },
    "executionInfo": {
     "elapsed": 626,
     "status": "ok",
     "timestamp": 1722164547732,
     "user": {
      "displayName": "Duc Nguyen Quang",
      "userId": "13435852976191392349"
     },
     "user_tz": -420
    },
    "id": "IAU1zkjZQidL",
    "outputId": "d7e6f559-5cca-4945-8a2f-b06eb3946dfa"
   },
   "outputs": [
    {
     "data": {
      "text/plain": [
       "721"
      ]
     },
     "execution_count": 22,
     "metadata": {},
     "output_type": "execute_result"
    }
   ],
   "source": [
    "len(crawled_urls)"
   ]
  },
  {
   "cell_type": "markdown",
   "metadata": {
    "id": "DEPy1mjPQidN"
   },
   "source": [
    "### Collect and process each article based on the link of the previous step: News articles\n",
    "\n",
    "> **How ​​to collect**\n",
    "\n",
    "From the link in the previous section, we go to each link in turn and collect information about the article."
   ]
  },
  {
   "cell_type": "markdown",
   "metadata": {
    "id": "2ms0OT9v_Y6M"
   },
   "source": [
    "#### Parameter settings"
   ]
  },
  {
   "cell_type": "code",
   "execution_count": null,
   "metadata": {
    "id": "xxqNs_ucmqlH"
   },
   "outputs": [],
   "source": [
    "# Filepath for the previous one\n",
    "FILE_URL_PATH = \"data/vnexpress_url.json\"\n",
    "\n",
    "# Set limit of articles from each category\n",
    "MAX_ARTICLES_PER_CAT = 2 # If set = None then all urls in the previous file\n",
    "\n",
    "# Data output, each category is a json file containing articles\n",
    "DATA_FOLDER_OUTPUT = \"data/vnexpress\"\n",
    "#!mkdir -p $DATA_FOLDER_OUTPUT\n",
    "\n",
    "# To load strategy about eager loading quickly, not caring about images\n",
    "chrome_options.page_load_strategy = \"eager\""
   ]
  },
  {
   "cell_type": "code",
   "execution_count": null,
   "metadata": {
    "colab": {
     "base_uri": "https://localhost:8080/"
    },
    "executionInfo": {
     "elapsed": 548,
     "status": "ok",
     "timestamp": 1722164593875,
     "user": {
      "displayName": "Duc Nguyen Quang",
      "userId": "13435852976191392349"
     },
     "user_tz": -420
    },
    "id": "tzzdPMDfw_P9",
    "outputId": "085c915a-1a8d-4de1-ab22-53af3c9d8949"
   },
   "outputs": [
    {
     "data": {
      "text/plain": [
       "14"
      ]
     },
     "execution_count": 24,
     "metadata": {},
     "output_type": "execute_result"
    }
   ],
   "source": [
    "# Read url file\n",
    "with open(FILE_URL_PATH, \"r\", encoding=\"utf-8\") as fIn:\n",
    "    url_data = json.load(fIn)\n",
    "\n",
    "len(url_data)"
   ]
  },
  {
   "cell_type": "code",
   "execution_count": null,
   "metadata": {
    "id": "3HEQBevIQidN"
   },
   "outputs": [],
   "source": [
    "def get_content_metadata(driver, article_url):\n",
    "\n",
    "    \"\"\"\n",
    "    Extracts and returns metadata and content from a given article URL.\n",
    "\n",
    "    :param driver: Selenium WebDriver instance.\n",
    "    :param article_url: URL of the article to extract data from.\n",
    "    :return: Dictionary containing article metadata and content.\n",
    "    \"\"\"\n",
    "\n",
    "    # Get to current article\n",
    "    driver.get(article_url)\n",
    "\n",
    "    # Collect title\n",
    "    title = driver.find_element(by=By.CSS_SELECTOR, value=\"h1.title-detail\").text.strip()\n",
    "\n",
    "    # Collect description\n",
    "    description = driver.find_element(by=By.CLASS_NAME, value=\"description\").text.strip()\n",
    "\n",
    "    # Collect thể loại\n",
    "    lis_cat = driver.find_element(by=By.CSS_SELECTOR, value=\"ul.breadcrumb\").find_elements(by=By.TAG_NAME, value=\"li\")\n",
    "    main_cat = lis_cat[0].text if len(lis_cat) > 0 else None\n",
    "    sub_cat = lis_cat[1].text if len(lis_cat) > 1 else None\n",
    "\n",
    "    # Collect published date\n",
    "    publish_date = driver.find_element(by=By.CSS_SELECTOR, value='[itemprop=\"datePublished\"]').get_attribute(\"content\").strip()\n",
    "\n",
    "    # Collect content bài báo\n",
    "    # Locate write content\n",
    "    article = driver.find_element(by=By.CSS_SELECTOR, value=\"article.fck_detail\")\n",
    "    # Get all subheadings of the article\n",
    "    children = article.find_elements(by=By.XPATH, value=\"./*\")\n",
    "\n",
    "    contents = []\n",
    "    author = \"Unknown\"\n",
    "\n",
    "    # Check is it a slide show\n",
    "    is_slide_show = False\n",
    "    for idx, child in enumerate(children):\n",
    "        text = child.text.strip()\n",
    "        # If element right align --> can be author\n",
    "        if child.tag_name == \"p\" and (\"right\" in child.get_attribute(\"align\") or \"right\" in child.get_attribute(\"style\")) and idx >= len(children) - 3: # last three, align right --> author\n",
    "            author = text\n",
    "        elif child.tag_name == \"p\" and child.get_attribute(\"class\") == \"Normal\": # paragraph\n",
    "            # If center\n",
    "            if len(text):\n",
    "                if (\"center\" in child.get_attribute(\"align\") or \"center\" in child.get_attribute(\"style\")):\n",
    "                    contents.append(f\"[{text}]\")\n",
    "                else:\n",
    "                    contents.append(text)\n",
    "\n",
    "        # Only get the figure caption\n",
    "        elif child.tag_name == \"figure\" :\n",
    "            ## If length > 100  --> not a caption, it's next description\n",
    "            if len(text):\n",
    "                if len(text) <= 100: # if len <= 100 --> add [] around\n",
    "                    contents.append(f\"[{text}]\")\n",
    "                else:\n",
    "                    contents.append(text)\n",
    "\n",
    "        # If it's a slide show, it looks like a figure.\n",
    "        elif child.tag_name == \"div\" and \"item_slide_show\" in child.get_attribute(\"class\"):\n",
    "            is_slide_show = True # slideshow\n",
    "            if len(text):\n",
    "                if len(text) <= 100:\n",
    "                    contents.append(f\"[{text}]\")\n",
    "                else:\n",
    "                    contents.append(text)\n",
    "\n",
    "        # pass table \n",
    "        elif child.tag_name == \"table\": # Do nothing rightnow\n",
    "            pass\n",
    "\n",
    "    if is_slide_show:\n",
    "        author = text\n",
    "\n",
    "    # If you still don't see the author, search by tag.\n",
    "    if author == \"Unknown\":\n",
    "        try:\n",
    "            author = driver.find_element(by=By.XPATH, value=\"//*[contains(@class, 'author')]\").text\n",
    "        except:\n",
    "            pass\n",
    "\n",
    "    return {\n",
    "        \"url\": article_url,\n",
    "        \"title\": title,\n",
    "        \"description\": description,\n",
    "        \"content\": \"\\n\".join(contents), # join paragraphs with \\n\n",
    "        \"metadata\": {\n",
    "            \"cat\": main_cat,\n",
    "            \"subcat\": sub_cat,\n",
    "            \"published_date\": publish_date,\n",
    "            \"author\": author\n",
    "        }\n",
    "    }\n"
   ]
  },
  {
   "cell_type": "code",
   "execution_count": null,
   "metadata": {
    "colab": {
     "base_uri": "https://localhost:8080/"
    },
    "executionInfo": {
     "elapsed": 297807,
     "status": "ok",
     "timestamp": 1722164956030,
     "user": {
      "displayName": "Duc Nguyen Quang",
      "userId": "13435852976191392349"
     },
     "user_tz": -420
    },
    "id": "Z-mDMiwEQidO",
    "outputId": "12767b71-46d4-434f-80ca-5c2e6bb7e33d"
   },
   "outputs": [
    {
     "name": "stdout",
     "output_type": "stream",
     "text": [
      "Thu thập dữ liệu thể loại Thời sự ..\n",
      "Thu thập dữ liệu thể loại Thế giới ..\n",
      "Thu thập dữ liệu thể loại Kinh doanh ..\n",
      "Bug at url: https://vnexpress.net/topic/con-loc-temu-27788, with ElementException\n",
      "Thu thập dữ liệu thể loại Bất động sản ..\n",
      "Thu thập dữ liệu thể loại Khoa học ..\n",
      "Thu thập dữ liệu thể loại Giải trí ..\n",
      "Thu thập dữ liệu thể loại Thể thao ..\n",
      "Thu thập dữ liệu thể loại Pháp luật ..\n",
      "Thu thập dữ liệu thể loại Giáo dục ..\n",
      "Thu thập dữ liệu thể loại Sức khỏe ..\n",
      "Thu thập dữ liệu thể loại Đời sống ..\n",
      "Thu thập dữ liệu thể loại Du lịch ..\n",
      "Thu thập dữ liệu thể loại Số hóa ..\n",
      "Thu thập dữ liệu thể loại Xe ..\n"
     ]
    }
   ],
   "source": [
    "driver = webdriver.Chrome(options=chrome_options)\n",
    "\n",
    "os.makedirs(DATA_FOLDER_OUTPUT, exist_ok=True)\n",
    "\n",
    "driver = webdriver.Chrome(options=chrome_options)\n",
    "\n",
    "for cat, urls in url_data.items():\n",
    "    print(f\"Collect category data {cat} ..\")\n",
    "    count_crawled = 0\n",
    "    cat_data = []\n",
    "    for url in urls:\n",
    "        try:\n",
    "            cat_data.append(get_content_metadata(driver, url))\n",
    "            count_crawled += 1\n",
    "            if MAX_ARTICLES_PER_CAT and count_crawled >= MAX_ARTICLES_PER_CAT:\n",
    "                break\n",
    "\n",
    "        except (StaleElementReferenceException, NoSuchElementException) as e:\n",
    "            print(f\"Bug at url: {url}, with ElementException\")\n",
    "            driver.refresh()\n",
    "            continue\n",
    "        \n",
    "    # File name processing: replace special characters\n",
    "    name_file_cat = cat.lower().replace(\" \", \"-\")\n",
    "    name_file_cat = ''.join(c for c in name_file_cat if c.isalnum() or c in ('-', '_')) + \".json\"\n",
    "\n",
    "    with open(os.path.join(DATA_FOLDER_OUTPUT, name_file_cat), \"w\", encoding=\"utf-8\") as fOut:\n",
    "        json.dump(cat_data, fOut, ensure_ascii=False, indent=4)\n",
    "\n",
    "driver.close()"
   ]
  },
  {
   "cell_type": "code",
   "execution_count": null,
   "metadata": {
    "colab": {
     "base_uri": "https://localhost:8080/"
    },
    "executionInfo": {
     "elapsed": 425,
     "status": "ok",
     "timestamp": 1722164965772,
     "user": {
      "displayName": "Duc Nguyen Quang",
      "userId": "13435852976191392349"
     },
     "user_tz": -420
    },
    "id": "ckXExoKxyUGX",
    "outputId": "f29fbf83-3d5b-4f17-a3c3-57f703310b00"
   },
   "outputs": [
    {
     "data": {
      "text/plain": [
       "{'url': 'https://vnexpress.net/cach-phanh-xe-em-nhu-tai-xe-limousine-4773457.html',\n",
       " 'title': 'Cách phanh xe êm như tài xế limousine',\n",
       " 'description': '\"Limo Stop\" là kỹ năng phanh xe êm như tài xế limousine, bằng cách nhả nhẹ chân phanh khi xe gần dừng hẳn, giúp người trên xe không chúi về trước.',\n",
       " 'content': '',\n",
       " 'metadata': {'cat': 'Xe',\n",
       "  'subcat': 'Cầm lái',\n",
       "  'published_date': '2024-07-24T04:00:00+07:00',\n",
       "  'author': 'Hồ Tân'}}"
      ]
     },
     "execution_count": 38,
     "metadata": {},
     "output_type": "execute_result"
    }
   ],
   "source": [
    "# Sample\n",
    "cat_data[0]"
   ]
  }
 ],
 "metadata": {
  "colab": {
   "provenance": []
  },
  "kernelspec": {
   "display_name": "Data_ML_GitHub",
   "language": "python",
   "name": "python3"
  },
  "language_info": {
   "codemirror_mode": {
    "name": "ipython",
    "version": 3
   },
   "file_extension": ".py",
   "mimetype": "text/x-python",
   "name": "python",
   "nbconvert_exporter": "python",
   "pygments_lexer": "ipython3",
   "version": "3.10.16"
  }
 },
 "nbformat": 4,
 "nbformat_minor": 0
}
